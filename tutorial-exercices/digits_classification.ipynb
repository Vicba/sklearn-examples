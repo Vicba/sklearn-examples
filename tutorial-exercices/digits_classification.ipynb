{
  "nbformat": 4,
  "nbformat_minor": 0,
  "metadata": {
    "colab": {
      "provenance": []
    },
    "kernelspec": {
      "name": "python3",
      "display_name": "Python 3"
    },
    "language_info": {
      "name": "python"
    }
  },
  "cells": [
    {
      "cell_type": "markdown",
      "source": [
        "# Digits classification"
      ],
      "metadata": {
        "id": "zMWUPbjAa2LF"
      }
    },
    {
      "cell_type": "code",
      "execution_count": 47,
      "metadata": {
        "id": "J6EKrJcNa1gP"
      },
      "outputs": [],
      "source": [
        "from sklearn.datasets import load_digits\n",
        "from sklearn.linear_model import LogisticRegression\n",
        "from sklearn.neighbors import KNeighborsClassifier"
      ]
    },
    {
      "cell_type": "code",
      "source": [
        "from sklearn.model_selection import train_test_split\n",
        "\n",
        "X, y = load_digits(return_X_y=True)\n",
        "\n",
        "X = X / X.max() # Normalize the image data to the range [0, 1]\n",
        "n_samples = len(X)\n",
        "\n",
        "X_train, X_test, y_train, y_test = train_test_split(X, y, test_size=0.1, random_state=42)\n",
        "\n",
        "n_samples"
      ],
      "metadata": {
        "colab": {
          "base_uri": "https://localhost:8080/"
        },
        "id": "mUidEwPQbNYy",
        "outputId": "da637ea6-16c6-449b-992f-d4feb64cacbe"
      },
      "execution_count": 48,
      "outputs": [
        {
          "output_type": "execute_result",
          "data": {
            "text/plain": [
              "1797"
            ]
          },
          "metadata": {},
          "execution_count": 48
        }
      ]
    },
    {
      "cell_type": "code",
      "source": [
        "X_train[0], y_train[0]"
      ],
      "metadata": {
        "colab": {
          "base_uri": "https://localhost:8080/"
        },
        "id": "6hHzeJImczVv",
        "outputId": "8f7b2151-be7f-4583-fb99-8ba67665bddd"
      },
      "execution_count": 49,
      "outputs": [
        {
          "output_type": "execute_result",
          "data": {
            "text/plain": [
              "(array([0.    , 0.    , 0.8125, 1.    , 1.    , 0.3125, 0.    , 0.    ,\n",
              "        0.    , 0.3125, 0.9375, 0.375 , 0.6875, 0.8125, 0.    , 0.    ,\n",
              "        0.    , 0.    , 0.125 , 0.125 , 0.8125, 0.5   , 0.    , 0.    ,\n",
              "        0.    , 0.    , 0.25  , 1.    , 0.9375, 0.125 , 0.    , 0.    ,\n",
              "        0.    , 0.    , 0.1875, 0.6875, 0.9375, 1.    , 0.3125, 0.    ,\n",
              "        0.    , 0.    , 0.    , 0.    , 0.125 , 0.9375, 0.6875, 0.    ,\n",
              "        0.    , 0.    , 0.1875, 0.25  , 0.5625, 1.    , 0.375 , 0.    ,\n",
              "        0.    , 0.    , 0.9375, 1.    , 1.    , 0.625 , 0.    , 0.    ]),\n",
              " 3)"
            ]
          },
          "metadata": {},
          "execution_count": 49
        }
      ]
    },
    {
      "cell_type": "code",
      "source": [
        "X_train[0].shape, y_train[0].shape"
      ],
      "metadata": {
        "colab": {
          "base_uri": "https://localhost:8080/"
        },
        "id": "jvnYtDVEc3aa",
        "outputId": "1d07b6e0-8ad9-414e-a8ca-411cd9eecd17"
      },
      "execution_count": 50,
      "outputs": [
        {
          "output_type": "execute_result",
          "data": {
            "text/plain": [
              "((64,), ())"
            ]
          },
          "metadata": {},
          "execution_count": 50
        }
      ]
    },
    {
      "cell_type": "code",
      "source": [
        "type(X_train[0])"
      ],
      "metadata": {
        "colab": {
          "base_uri": "https://localhost:8080/"
        },
        "id": "Cw2eRk3RdDA3",
        "outputId": "f665333a-b709-4d7e-e22c-6dfa7e1f6d1f"
      },
      "execution_count": 51,
      "outputs": [
        {
          "output_type": "execute_result",
          "data": {
            "text/plain": [
              "numpy.ndarray"
            ]
          },
          "metadata": {},
          "execution_count": 51
        }
      ]
    },
    {
      "cell_type": "code",
      "source": [
        "import matplotlib.pyplot as plt\n",
        "\n",
        "def visualize(img):\n",
        "  # Reshape the image data (64 pixels) to 8x8 for visualization\n",
        "  image_data_reshaped = img.reshape((8, 8))\n",
        "\n",
        "  # Display the image using matplotlib\n",
        "  plt.imshow(image_data_reshaped, cmap='gray', interpolation='nearest')\n",
        "  plt.title('Digit Image')\n",
        "  plt.axis('off')  # Hide axis\n",
        "  plt.show()\n",
        "\n",
        "visualize(X_train[0])"
      ],
      "metadata": {
        "colab": {
          "base_uri": "https://localhost:8080/",
          "height": 427
        },
        "id": "zUyhe-5mc61r",
        "outputId": "3fa8a50e-8848-40dd-f87f-dc6b7fafbc1f"
      },
      "execution_count": 52,
      "outputs": [
        {
          "output_type": "display_data",
          "data": {
            "text/plain": [
              "<Figure size 640x480 with 1 Axes>"
            ],
            "image/png": "[encoded data removed]"
          },
          "metadata": {}
        }
      ]
    },
    {
      "cell_type": "code",
      "source": [
        "knn = KNeighborsClassifier()\n",
        "knn.fit(X_train, y_train)\n",
        "\n",
        "print(\"KNN score: \", knn.score(X_test, y_test))"
      ],
      "metadata": {
        "colab": {
          "base_uri": "https://localhost:8080/"
        },
        "id": "daXEifhRbzAB",
        "outputId": "53664841-3018-4926-b936-d31ed347391b"
      },
      "execution_count": 53,
      "outputs": [
        {
          "output_type": "stream",
          "name": "stdout",
          "text": [
            "KNN score:  0.9888888888888889\n"
          ]
        }
      ]
    },
    {
      "cell_type": "code",
      "source": [
        "logistic = LogisticRegression(max_iter=1000)\n",
        "logistic.fit(X_train, y_train)\n",
        "print(\"LogisticRegression score: \", logistic.score(X_test, y_test))"
      ],
      "metadata": {
        "colab": {
          "base_uri": "https://localhost:8080/"
        },
        "id": "9MU92wDib2bz",
        "outputId": "854ad604-dc65-4c03-e050-57bfc6858e8d"
      },
      "execution_count": 54,
      "outputs": [
        {
          "output_type": "stream",
          "name": "stdout",
          "text": [
            "LogisticRegression score:  0.9833333333333333\n"
          ]
        }
      ]
    },
    {
      "cell_type": "code",
      "source": [
        "visualize(X_test[0])"
      ],
      "metadata": {
        "colab": {
          "base_uri": "https://localhost:8080/",
          "height": 427
        },
        "id": "7gUUA07cfK2p",
        "outputId": "ebae7b79-af63-4239-83f4-5b94fe0d1130"
      },
      "execution_count": 55,
      "outputs": [
        {
          "output_type": "display_data",
          "data": {
            "text/plain": [
              "<Figure size 640x480 with 1 Axes>"
            ],
            "image/png": "[encoded data removed]"
          },
          "metadata": {}
        }
      ]
    },
    {
      "cell_type": "code",
      "source": [
        "X_test[0].reshape(1, -1).shape"
      ],
      "metadata": {
        "colab": {
          "base_uri": "https://localhost:8080/"
        },
        "id": "s0juITXGfUqf",
        "outputId": "cd97aca9-10cc-4002-8c44-7a48aa626b8c"
      },
      "execution_count": 56,
      "outputs": [
        {
          "output_type": "execute_result",
          "data": {
            "text/plain": [
              "(1, 64)"
            ]
          },
          "metadata": {},
          "execution_count": 56
        }
      ]
    },
    {
      "cell_type": "code",
      "source": [
        "pred = knn.predict(X_test[0].reshape(1, -1))\n",
        "pred"
      ],
      "metadata": {
        "colab": {
          "base_uri": "https://localhost:8080/"
        },
        "id": "f_vIHBbjeBTy",
        "outputId": "95022985-1247-4656-d4c7-dedcd974c49c"
      },
      "execution_count": 57,
      "outputs": [
        {
          "output_type": "execute_result",
          "data": {
            "text/plain": [
              "array([6])"
            ]
          },
          "metadata": {},
          "execution_count": 57
        }
      ]
    },
    {
      "cell_type": "code",
      "source": [],
      "metadata": {
        "id": "ZmklQsXxeyqK"
      },
      "execution_count": 57,
      "outputs": []
    }
  ]
}