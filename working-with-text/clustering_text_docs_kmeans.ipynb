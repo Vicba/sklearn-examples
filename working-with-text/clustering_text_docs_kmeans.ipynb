{
  "nbformat": 4,
  "nbformat_minor": 0,
  "metadata": {
    "colab": {
      "provenance": []
    },
    "kernelspec": {
      "name": "python3",
      "display_name": "Python 3"
    },
    "language_info": {
      "name": "python"
    }
  },
  "cells": [
    {
      "cell_type": "markdown",
      "source": [
        "# CLustering text documentss using kmeans\n",
        "This is an example showing how the scikit-learn API can be used to cluster documents by topics using a Bag of Words approach.\n",
        "\n",
        "Two algorithms are demonstrated, namely KMeans and its more scalable variant, MiniBatchKMeans. Additionally, latent semantic analysis is used to reduce dimensionality and discover latent patterns in the data.\n",
        "\n",
        "This example uses two different text vectorizers: a TfidfVectorizer and a HashingVectorizer."
      ],
      "metadata": {
        "id": "khuWtocg7Y00"
      }
    },
    {
      "cell_type": "code",
      "source": [
        "import numpy as np\n",
        "from sklearn.datasets import fetch_20newsgroups\n",
        "\n",
        "categories = [\n",
        "    \"alt.atheism\",\n",
        "    \"talk.religion.misc\",\n",
        "    \"comp.graphics\",\n",
        "    \"sci.space\",\n",
        "]\n",
        "\n",
        "dataset = fetch_20newsgroups(\n",
        "    remove=(\"headers\", \"footers\", \"quotes\"),\n",
        "    subset=\"all\",\n",
        "    categories=categories,\n",
        "    shuffle=True,\n",
        "    random_state=42,\n",
        ")\n",
        "\n",
        "labels = dataset.target\n",
        "unique_labels, category_sizes = np.unique(labels, return_counts=True)\n",
        "true_k = unique_labels.shape[0]\n",
        "\n",
        "print(f\"{len(dataset.data)} documents - {true_k} categories\")\n",
        "print(list(dataset.target_names))"
      ],
      "metadata": {
        "colab": {
          "base_uri": "https://localhost:8080/"
        },
        "id": "2YftJamX7Y8Z",
        "outputId": "b0fae535-bf2e-4d70-eb51-5412019f7428"
      },
      "execution_count": 2,
      "outputs": [
        {
          "output_type": "stream",
          "name": "stdout",
          "text": [
            "3387 documents - 4 categories\n",
            "['alt.atheism', 'comp.graphics', 'sci.space', 'talk.religion.misc']\n"
          ]
        }
      ]
    },
    {
      "cell_type": "code",
      "source": [],
      "metadata": {
        "id": "UbQNNdW77y5f"
      },
      "execution_count": 2,
      "outputs": []
    },
    {
      "cell_type": "markdown",
      "source": [
        "Clustering algorithms are fundamentally unsupervised learning methods. However, since we happen to have class labels for this specific dataset, it is possible to use evaluation metrics that leverage this “supervised” ground truth information to quantify the quality of the resulting clusters. Examples of such metrics are the following:\n",
        "\n",
        "- **homogeneity**, which quantifies how much clusters contain only members of a single class;\n",
        "- **completeness**, which quantifies how much members of a given class are assigned to the same clusters;\n",
        "- **V-measure**, the harmonic mean of completeness and homogeneity;\n",
        "- **Rand-Index**, which measures how frequently pairs of data points are grouped consistently according to the result of the clustering algorithm and the ground truth class assignment;\n",
        "- **Adjusted Rand-Index**, a chance-adjusted Rand-Index such that random cluster assignment have an ARI of 0.0 in expectation.\n",
        "\n",
        "If the ground truth labels are not known, evaluation can only be performed using the model results itself. In that case, the Silhouette Coefficient comes in handy."
      ],
      "metadata": {
        "id": "PZmhT_2P8Ia_"
      }
    },
    {
      "cell_type": "code",
      "source": [
        "from collections import defaultdict\n",
        "from time import time\n",
        "from sklearn.metrics import (\n",
        "    homogeneity_score, completeness_score, v_measure_score,\n",
        "    adjusted_rand_score, silhouette_score\n",
        ")\n",
        "import numpy as np\n",
        "\n",
        "def fit_and_evaluate(km, X, labels, name=None, n_runs=5):\n",
        "    name = name or km.__class__.__name__\n",
        "    scores = defaultdict(list)\n",
        "    train_times = []\n",
        "\n",
        "    for seed in range(n_runs):\n",
        "        km.set_params(random_state=seed)\n",
        "        start_time = time()\n",
        "        km.fit(X)\n",
        "        train_times.append(time() - start_time)\n",
        "\n",
        "        km_labels = km.labels_\n",
        "        scores[\"Homogeneity\"].append(homogeneity_score(labels, km_labels))\n",
        "        scores[\"Completeness\"].append(completeness_score(labels, km_labels))\n",
        "        scores[\"V-measure\"].append(v_measure_score(labels, km_labels))\n",
        "        scores[\"Adjusted Rand-Index\"].append(adjusted_rand_score(labels, km_labels))\n",
        "        scores[\"Silhouette Coefficient\"].append(silhouette_score(X, km_labels, sample_size=2000))\n",
        "\n",
        "    train_times_mean = np.mean(train_times)\n",
        "    train_times_std = np.std(train_times)\n",
        "    print(f\"Clustering done in {train_times_mean:.2f} ± {train_times_std:.2f} s\")\n",
        "\n",
        "    evaluation = {\"estimator\": name, \"train_time\": train_times_mean}\n",
        "    evaluation_std = {\"estimator\": name, \"train_time\": train_times_std}\n",
        "\n",
        "    for score_name, score_values in scores.items():\n",
        "        mean_score = np.mean(score_values)\n",
        "        std_score = np.std(score_values)\n",
        "        print(f\"{score_name}: {mean_score:.3f} ± {std_score:.3f}\")\n",
        "        evaluation[score_name] = mean_score\n",
        "        evaluation_std[score_name] = std_score\n",
        "\n",
        "    evaluations.append(evaluation)\n",
        "    evaluations_std.append(evaluation_std)"
      ],
      "metadata": {
        "id": "RNlJmOK48TBs"
      },
      "execution_count": 13,
      "outputs": []
    },
    {
      "cell_type": "markdown",
      "source": [
        "## K-means clustering on text features\n",
        "\n",
        "Two feature extraction methods are used in this example:\n",
        "\n",
        "- TfidfVectorizer uses an in-memory vocabulary (a Python dict) to map the most frequent words to features indices and hence compute a word occurrence frequency (sparse) matrix. The word frequencies are then reweighted using the Inverse Document Frequency (IDF) vector collected feature-wise over the corpus.\n",
        "\n",
        "- HashingVectorizer hashes word occurrences to a fixed dimensional space, possibly with collisions. The word count vectors are then normalized to each have l2-norm equal to one (projected to the euclidean unit-sphere) which seems to be important for k-means to work in high dimensional space."
      ],
      "metadata": {
        "id": "9p0zL6-78dBN"
      }
    },
    {
      "cell_type": "markdown",
      "source": [
        "feature extraction using tfidfvectorizer"
      ],
      "metadata": {
        "id": "B_y4h9eJ8mD1"
      }
    },
    {
      "cell_type": "code",
      "source": [
        "from sklearn.feature_extraction.text import TfidfVectorizer\n",
        "from time import time\n",
        "\n",
        "vectorizer = TfidfVectorizer(\n",
        "    max_df=0.5,\n",
        "    min_df=5,\n",
        "    stop_words=\"english\",\n",
        ")\n",
        "t0 = time()\n",
        "X_tfidf = vectorizer.fit_transform(dataset.data)\n",
        "\n",
        "print(f\"Vectorization done in {time() - t0:.3f} s\")\n",
        "print(f\"n_samples: {X_tfidf.shape[0]}, n_features: {X_tfidf.shape[1]}\")\n",
        "print(X_tfidf.toarray())\n",
        "print(vectorizer.get_feature_names_out())  # Use the vectorizer to get feature names"
      ],
      "metadata": {
        "colab": {
          "base_uri": "https://localhost:8080/"
        },
        "id": "HLd0yH4W8aZu",
        "outputId": "25f5df03-7638-4ecd-daee-d9b6cc605167"
      },
      "execution_count": 18,
      "outputs": [
        {
          "output_type": "stream",
          "name": "stdout",
          "text": [
            "Vectorization done in 2.191 s\n",
            "n_samples: 3387, n_features: 7929\n",
            "[[0. 0. 0. ... 0. 0. 0.]\n",
            " [0. 0. 0. ... 0. 0. 0.]\n",
            " [0. 0. 0. ... 0. 0. 0.]\n",
            " ...\n",
            " [0. 0. 0. ... 0. 0. 0.]\n",
            " [0. 0. 0. ... 0. 0. 0.]\n",
            " [0. 0. 0. ... 0. 0. 0.]]\n",
            "['00' '000' '00000' ... 'zoom' 'zooming' 'zyxel']\n"
          ]
        }
      ]
    },
    {
      "cell_type": "markdown",
      "source": [
        "After ignoring terms that appear in more than 50% of the documents (as set by max_df=0.5) and terms that are not present in at least 5 documents (set by min_df=5), the resulting number of unique terms n_features is around 8,000. We can additionally quantify the sparsity of the X_tfidf matrix as the fraction of non-zero entries divided by the total number of elements."
      ],
      "metadata": {
        "id": "aPhv8tTo8xeG"
      }
    },
    {
      "cell_type": "markdown",
      "source": [
        "### `max_df` (Maximum Document Frequency):\n",
        "- **Purpose**: To exclude terms that appear in too many documents.\n",
        "- **How It Works**: `max_df` can be set as either a float (between 0.0 and 1.0) or an integer.\n",
        "  - **As a float**: If `max_df` is a float, it represents a proportion. For example, if `max_df=0.5`, it means that any term that appears in more than 50% of the documents will be ignored.\n",
        "  - **As an integer**: If `max_df` is an integer, it represents an absolute count. For example, if `max_df=10`, any term appearing in more than 10 documents will be ignored.\n",
        "- **Why Use It**: Extremely common terms (e.g., \"the\", \"is\", \"and\") often do not carry significant meaning and can dominate the feature space. By setting `max_df`, you can remove these common terms and focus on more meaningful words.\n",
        "\n",
        "### `min_df` (Minimum Document Frequency):\n",
        "- **Purpose**: To exclude terms that appear in too few documents.\n",
        "- **How It Works**: `min_df` can also be set as either a float or an integer.\n",
        "  - **As a float**: If `min_df` is a float, it represents a proportion. For example, if `min_df=0.01`, it means that any term that appears in fewer than 1% of the documents will be ignored.\n",
        "  - **As an integer**: If `min_df` is an integer, it represents an absolute count. For example, if `min_df=5`, any term appearing in fewer than 5 documents will be ignored.\n",
        "- **Why Use It**: Rare terms that appear in very few documents may not be useful for generalizing the model and can add noise to the data. By setting `min_df`, you can remove these infrequent terms.\n",
        "\n",
        "### Summary:\n",
        "- **`max_df`** helps remove overly common words that may not be useful for distinguishing between documents.\n",
        "- **`min_df`** helps remove rare words that might not contribute meaningfully to the analysis."
      ],
      "metadata": {
        "id": "Xn6e5uiaX55s"
      }
    },
    {
      "cell_type": "code",
      "source": [
        "print(f\"{X_tfidf.nnz / np.prod(X_tfidf.shape):.3f}\")"
      ],
      "metadata": {
        "colab": {
          "base_uri": "https://localhost:8080/"
        },
        "id": "pkkCBUjj8oPl",
        "outputId": "b0f0a353-989d-4b3a-cae0-425da3e96c17"
      },
      "execution_count": 19,
      "outputs": [
        {
          "output_type": "stream",
          "name": "stdout",
          "text": [
            "0.007\n"
          ]
        }
      ]
    },
    {
      "cell_type": "markdown",
      "source": [
        "We find that around 0.7% of the entries of the X_tfidf matrix are non-zero."
      ],
      "metadata": {
        "id": "UArWicEX80qx"
      }
    },
    {
      "cell_type": "markdown",
      "source": [
        "### CLustering sparse data with kmeans\n",
        "\n",
        "As both KMeans and MiniBatchKMeans optimize a non-convex objective function, their clustering is not guaranteed to be optimal for a given random init. Even further, on sparse high-dimensional data such as text vectorized using the Bag of Words approach, k-means can initialize centroids on extremely isolated data points. Those data points can stay their own centroids all along.\n",
        "\n",
        "The following code illustrates how the previous phenomenon can sometimes lead to highly imbalanced clusters, depending on the random initialization:"
      ],
      "metadata": {
        "id": "c8XfQoHo89eA"
      }
    },
    {
      "cell_type": "code",
      "source": [
        "from sklearn.cluster import KMeans\n",
        "\n",
        "for seed in range(5):\n",
        "    kmeans = KMeans(\n",
        "        n_clusters=true_k,\n",
        "        max_iter=100,\n",
        "        n_init=1,\n",
        "        random_state=seed,\n",
        "    ).fit(X_tfidf)\n",
        "\n",
        "    cluster_ids, cluster_sizes = np.unique(kmeans.labels_, return_counts=True)\n",
        "    print(f\"Number of elements assigned to each cluster: {cluster_sizes}\")\n",
        "    print()\n",
        "    print(\"True number of documents in each category according to the class labels: \"f\"{category_sizes}\")"
      ],
      "metadata": {
        "colab": {
          "base_uri": "https://localhost:8080/"
        },
        "id": "myx395Uv8z9p",
        "outputId": "9b90fbd9-3c64-47a0-b37c-08935672542e"
      },
      "execution_count": 6,
      "outputs": [
        {
          "output_type": "stream",
          "name": "stdout",
          "text": [
            "Number of elements assigned to each cluster: [2050  711  180  446]\n",
            "\n",
            "True number of documents in each category according to the class labels: [799 973 987 628]\n",
            "Number of elements assigned to each cluster: [1689  638  480  580]\n",
            "\n",
            "True number of documents in each category according to the class labels: [799 973 987 628]\n",
            "Number of elements assigned to each cluster: [   1    1    1 3384]\n",
            "\n",
            "True number of documents in each category according to the class labels: [799 973 987 628]\n",
            "Number of elements assigned to each cluster: [1887  311  332  857]\n",
            "\n",
            "True number of documents in each category according to the class labels: [799 973 987 628]\n",
            "Number of elements assigned to each cluster: [1688  636  454  609]\n",
            "\n",
            "True number of documents in each category according to the class labels: [799 973 987 628]\n"
          ]
        }
      ]
    },
    {
      "cell_type": "markdown",
      "source": [
        "To avoid this problem, one possibility is to increase the number of runs with independent random initiations n_init. In such case the clustering with the best inertia (objective function of k-means) is chosen."
      ],
      "metadata": {
        "id": "QuyguDw89_Cv"
      }
    },
    {
      "cell_type": "code",
      "source": [
        "kmeans = KMeans(\n",
        "    n_clusters=true_k,\n",
        "    max_iter=100,\n",
        "    n_init=5,\n",
        ")\n",
        "\n",
        "fit_and_evaluate(kmeans, X_tfidf, name=\"KMeans\\non tf-idf vectors\")"
      ],
      "metadata": {
        "colab": {
          "base_uri": "https://localhost:8080/"
        },
        "id": "zE3jcMZo9BD0",
        "outputId": "b3652a91-af7b-49fc-c939-ae50dbe91a10"
      },
      "execution_count": 7,
      "outputs": [
        {
          "output_type": "stream",
          "name": "stdout",
          "text": [
            "clustering done in 0.42 ± 0.09 s \n",
            "Homogeneity: 0.351 ± 0.006\n",
            "Completeness: 0.402 ± 0.012\n",
            "V-measure: 0.375 ± 0.008\n",
            "Adjusted Rand-Index: 0.207 ± 0.015\n",
            "Silhouette Coefficient: 0.007 ± 0.000\n"
          ]
        }
      ]
    },
    {
      "cell_type": "markdown",
      "source": [
        "All those clustering evaluation metrics have a maximum value of 1.0 (for a perfect clustering result). Higher values are better. Values of the Adjusted Rand-Index close to 0.0 correspond to a random labeling. Notice from the scores above that the cluster assignment is indeed well above chance level, but the overall quality can certainly improve.\n",
        "\n",
        "Keep in mind that the class labels may not reflect accurately the document topics and therefore metrics that use labels are not necessarily the best to evaluate the quality of our clustering pipeline."
      ],
      "metadata": {
        "id": "1tPf5ODW-ItP"
      }
    },
    {
      "cell_type": "markdown",
      "source": [
        "## performing dimensionality reduction using LSA\n",
        "\n",
        "A n_init=1 can still be used as long as the dimension of the vectorized space is reduced first to make k-means more stable. For such purpose we use TruncatedSVD, which works on term count/tf-idf matrices. Since SVD results are not normalized, we redo the normalization to improve the KMeans result. Using SVD to reduce the dimensionality of TF-IDF document vectors is often known as latent semantic analysis (LSA) in the information retrieval and text mining literature.\n",
        "\n"
      ],
      "metadata": {
        "id": "EMRmamEY-Lr1"
      }
    },
    {
      "cell_type": "markdown",
      "source": [
        "Sure! Here's a simple explanation:\n",
        "\n",
        "### What is `TruncatedSVD`?\n",
        "- **Purpose**: `TruncatedSVD` (Singular Value Decomposition) is a technique used to reduce the number of features (dimensions) in a dataset while keeping as much important information as possible.\n",
        "- **Why It's Useful**: In text data, you often have a lot of features (words), which can make the data hard to work with. `TruncatedSVD` helps simplify the data by reducing the number of features, making it easier and faster to analyze while still capturing the essential patterns.\n",
        "\n",
        "- **`n_components=100`**: This means `TruncatedSVD` will reduce the data to 100 features (or components). You're keeping the most important 100 patterns in the data.\n",
        "- **`make_pipeline`**: This is a way to combine steps. First, it applies `TruncatedSVD` to reduce the features, then it applies `Normalizer` to scale the data so all features are treated equally.\n",
        "\n",
        "### Real-World Analogy:\n",
        "Imagine you have a very detailed map of a city, but you only need to know the main roads to navigate. `TruncatedSVD` helps by simplifying the map, keeping only the main roads and removing the less important details, so it's easier to use.\n"
      ],
      "metadata": {
        "id": "BqExaic7YeYm"
      }
    },
    {
      "cell_type": "code",
      "source": [
        "from sklearn.decomposition import TruncatedSVD\n",
        "from sklearn.pipeline import make_pipeline\n",
        "from sklearn.preprocessing import Normalizer\n",
        "\n",
        "lsa = make_pipeline(TruncatedSVD(n_components=100), Normalizer(copy=False))\n",
        "t0 = time()\n",
        "X_lsa = lsa.fit_transform(X_tfidf)\n",
        "explained_variance = lsa[0].explained_variance_ratio_.sum()\n",
        "\n",
        "print(f\"LSA done in {time() - t0:.3f} s\")\n",
        "print(f\"Explained variance of the SVD step: {explained_variance * 100:.1f}%\")"
      ],
      "metadata": {
        "colab": {
          "base_uri": "https://localhost:8080/"
        },
        "id": "ApnzYWNz-Scq",
        "outputId": "536a5a02-d085-4d0c-b044-718c46b3d413"
      },
      "execution_count": 8,
      "outputs": [
        {
          "output_type": "stream",
          "name": "stdout",
          "text": [
            "LSA done in 0.959 s\n",
            "Explained variance of the SVD step: 18.4%\n"
          ]
        }
      ]
    },
    {
      "cell_type": "markdown",
      "source": [
        "Using a single initialization means the processing time will be reduced for both KMeans and MiniBatchKMeans.\n",
        "\n"
      ],
      "metadata": {
        "id": "OfS5g9mG-W23"
      }
    },
    {
      "cell_type": "code",
      "source": [
        "kmeans = KMeans(\n",
        "    n_clusters=true_k,\n",
        "    max_iter=100,\n",
        "    n_init=1,\n",
        ")\n",
        "\n",
        "fit_and_evaluate(kmeans, X_lsa, name=\"KMeans\\nwith LSA on tf-idf vectors\")"
      ],
      "metadata": {
        "colab": {
          "base_uri": "https://localhost:8080/"
        },
        "id": "ayxiya_h-aF-",
        "outputId": "9ef08709-8dff-43a9-91f1-c94aded12a0b"
      },
      "execution_count": 9,
      "outputs": [
        {
          "output_type": "stream",
          "name": "stdout",
          "text": [
            "clustering done in 0.08 ± 0.03 s \n",
            "Homogeneity: 0.401 ± 0.010\n",
            "Completeness: 0.434 ± 0.022\n",
            "V-measure: 0.417 ± 0.014\n",
            "Adjusted Rand-Index: 0.341 ± 0.020\n",
            "Silhouette Coefficient: 0.030 ± 0.002\n"
          ]
        }
      ]
    },
    {
      "cell_type": "markdown",
      "source": [
        "We can observe that clustering on the LSA representation of the document is significantly faster (both because of n_init=1 and because the dimensionality of the LSA feature space is much smaller). Furthermore, all the clustering evaluation metrics have improved. We repeat the experiment with MiniBatchKMeans.\n",
        "\n"
      ],
      "metadata": {
        "id": "wlcXIy0F-c59"
      }
    },
    {
      "cell_type": "code",
      "source": [
        "from sklearn.cluster import MiniBatchKMeans\n",
        "\n",
        "minibatch_kmeans = MiniBatchKMeans(\n",
        "    n_clusters=true_k,\n",
        "    n_init=1,\n",
        "    init_size=1000,\n",
        "    batch_size=1000,\n",
        ")\n",
        "\n",
        "fit_and_evaluate(\n",
        "    minibatch_kmeans,\n",
        "    X_lsa,\n",
        "    name=\"MiniBatchKMeans\\nwith LSA on tf-idf vectors\",\n",
        ")"
      ],
      "metadata": {
        "colab": {
          "base_uri": "https://localhost:8080/"
        },
        "id": "mtb4hanX9kq0",
        "outputId": "2e02b657-373d-43e9-cc79-f94e9c998e35"
      },
      "execution_count": 10,
      "outputs": [
        {
          "output_type": "stream",
          "name": "stdout",
          "text": [
            "clustering done in 0.07 ± 0.01 s \n",
            "Homogeneity: 0.373 ± 0.034\n",
            "Completeness: 0.378 ± 0.031\n",
            "V-measure: 0.375 ± 0.032\n",
            "Adjusted Rand-Index: 0.336 ± 0.044\n",
            "Silhouette Coefficient: 0.028 ± 0.003\n"
          ]
        }
      ]
    },
    {
      "cell_type": "markdown",
      "source": [
        "## Top terms per cluster\n",
        "\n",
        "Since TfidfVectorizer can be inverted we can identify the cluster centers, which provide an intuition of the most influential words for each cluster."
      ],
      "metadata": {
        "id": "ddi0dfCn-g9M"
      }
    },
    {
      "cell_type": "code",
      "source": [
        "original_space_centroids = lsa[0].inverse_transform(kmeans.cluster_centers_)\n",
        "order_centroids = original_space_centroids.argsort()[:, ::-1]\n",
        "terms = vectorizer.get_feature_names_out()\n",
        "\n",
        "for i in range(true_k):\n",
        "    print(f\"Cluster {i}: \", end=\"\")\n",
        "    for ind in order_centroids[i, :10]:\n",
        "        print(f\"{terms[ind]} \", end=\"\")\n",
        "    print()"
      ],
      "metadata": {
        "colab": {
          "base_uri": "https://localhost:8080/"
        },
        "id": "w2vn7a0z-f0M",
        "outputId": "207c16ea-ed54-46f9-8d70-233084a1c2e8"
      },
      "execution_count": 11,
      "outputs": [
        {
          "output_type": "stream",
          "name": "stdout",
          "text": [
            "Cluster 0: don think just people know like say right moral good \n",
            "Cluster 1: god jesus does say bible christian did religion said kent \n",
            "Cluster 2: thanks graphics image files know file program looking software ftp \n",
            "Cluster 3: space launch orbit nasa earth shuttle moon like mission time \n"
          ]
        }
      ]
    },
    {
      "cell_type": "code",
      "source": [],
      "metadata": {
        "id": "VoXOU2kB-mhu"
      },
      "execution_count": 11,
      "outputs": []
    },
    {
      "cell_type": "markdown",
      "source": [
        "## Clustering evaluation summary"
      ],
      "metadata": {
        "id": "CybeGB_O-qoF"
      }
    },
    {
      "cell_type": "code",
      "source": [
        "import matplotlib.pyplot as plt\n",
        "import pandas as pd\n",
        "\n",
        "fig, (ax0, ax1) = plt.subplots(ncols=2, figsize=(16, 6), sharey=True)\n",
        "\n",
        "df = pd.DataFrame(evaluations[::-1]).set_index(\"estimator\")\n",
        "df_std = pd.DataFrame(evaluations_std[::-1]).set_index(\"estimator\")\n",
        "\n",
        "df.drop(\n",
        "    [\"train_time\"],\n",
        "    axis=\"columns\",\n",
        ").plot.barh(ax=ax0, xerr=df_std)\n",
        "ax0.set_xlabel(\"Clustering scores\")\n",
        "ax0.set_ylabel(\"\")\n",
        "\n",
        "df[\"train_time\"].plot.barh(ax=ax1, xerr=df_std[\"train_time\"])\n",
        "ax1.set_xlabel(\"Clustering time (s)\")\n",
        "plt.tight_layout()"
      ],
      "metadata": {
        "colab": {
          "base_uri": "https://localhost:8080/",
          "height": 390
        },
        "id": "r_oVccFK-spt",
        "outputId": "f3dc6d63-1a9d-4255-83a5-9e2f061f9d7d"
      },
      "execution_count": 12,
      "outputs": [
        {
          "output_type": "display_data",
          "data": {
            "text/plain": [
              "<Figure size 1600x600 with 2 Axes>"
            ],
            "image/png": "[encoded data removed]"
          },
          "metadata": {}
        }
      ]
    },
    {
      "cell_type": "code",
      "source": [],
      "metadata": {
        "id": "WOq7n_gH-tEg"
      },
      "execution_count": 12,
      "outputs": []
    },
    {
      "cell_type": "markdown",
      "source": [
        "KMeans and MiniBatchKMeans suffer from the phenomenon called the Curse of Dimensionality for high dimensional datasets such as text data. That is the reason why the overall scores improve when using LSA. Using LSA reduced data also improves the stability and requires lower clustering time, though keep in mind that the LSA step itself takes a long time.\n",
        "\n",
        "The size of the error bars show that MiniBatchKMeans is less stable than KMeans for this relatively small dataset. It is more interesting to use when the number of samples is much bigger, but it can come at the expense of a small degradation in clustering quality compared to the traditional k-means algorithm."
      ],
      "metadata": {
        "id": "SJICLL-D-vAV"
      }
    },
    {
      "cell_type": "code",
      "source": [],
      "metadata": {
        "id": "fYr_jORm-yIJ"
      },
      "execution_count": 12,
      "outputs": []
    }
  ]
}