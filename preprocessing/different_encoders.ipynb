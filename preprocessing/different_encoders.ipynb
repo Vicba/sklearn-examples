{
  "nbformat": 4,
  "nbformat_minor": 0,
  "metadata": {
    "colab": {
      "provenance": []
    },
    "kernelspec": {
      "name": "python3",
      "display_name": "Python 3"
    },
    "language_info": {
      "name": "python"
    }
  },
  "cells": [
    {
      "cell_type": "markdown",
      "source": [
        "### 1. **Label Encoding**\n",
        "\n",
        "**Label Encoding** converts categorical labels into numerical values. This method assigns a unique number to each category.\n",
        "\n",
        "**Use Case**: Suitable for ordinal data where the categories have a meaningful order.\n",
        "\n",
        "**Example**:\n",
        "\n",
        "Imagine you have a feature called `color` with values `['red', 'blue', 'green']`. Label Encoding will map these values to integers."
      ],
      "metadata": {
        "id": "fEH4e-GIfr1u"
      }
    },
    {
      "cell_type": "code",
      "source": [
        "from sklearn.preprocessing import LabelEncoder\n",
        "\n",
        "# Sample data\n",
        "colors = ['red', 'blue', 'green', 'blue', 'red']\n",
        "\n",
        "# Initialize the LabelEncoder\n",
        "label_encoder = LabelEncoder()\n",
        "\n",
        "# Fit and transform the data\n",
        "encoded_colors = label_encoder.fit_transform(colors)\n",
        "\n",
        "print(f\"Original colors: {colors}\")\n",
        "print(f\"Encoded colors: {encoded_colors}\")"
      ],
      "metadata": {
        "colab": {
          "base_uri": "https://localhost:8080/"
        },
        "id": "JwoHTi80fw_d",
        "outputId": "94491dce-6f82-48a5-bcc2-b0724acb33f9"
      },
      "execution_count": 1,
      "outputs": [
        {
          "output_type": "stream",
          "name": "stdout",
          "text": [
            "Original colors: ['red', 'blue', 'green', 'blue', 'red']\n",
            "Encoded colors: [2 0 1 0 2]\n"
          ]
        }
      ]
    },
    {
      "cell_type": "markdown",
      "source": [
        "### 2. **One-Hot Encoding**\n",
        "\n",
        "**One-Hot Encoding** converts categorical values into binary vectors. Each category is represented by a binary vector where only one element is `1` and the rest are `0`.\n",
        "\n",
        "**Use Case**: Suitable for nominal data where categories do not have a meaningful order.\n",
        "\n",
        "**Example**:\n",
        "\n",
        "For the same `color` feature, One-Hot Encoding will create a vector for each color."
      ],
      "metadata": {
        "id": "y5Oq025rf2cI"
      }
    },
    {
      "cell_type": "code",
      "source": [
        "from sklearn.preprocessing import OneHotEncoder\n",
        "import pandas as pd\n",
        "\n",
        "# Sample data\n",
        "colors = [['red'], ['blue'], ['green'], ['blue'], ['red']]\n",
        "\n",
        "# Initialize the OneHotEncoder\n",
        "one_hot_encoder = OneHotEncoder(sparse=False)\n",
        "\n",
        "# Fit and transform the data\n",
        "encoded_colors = one_hot_encoder.fit_transform(colors)\n",
        "\n",
        "# Convert to DataFrame for easier visualization\n",
        "encoded_df = pd.DataFrame(encoded_colors, columns=one_hot_encoder.get_feature_names_out(['color']))\n",
        "\n",
        "print(f\"Original colors: {colors}\")\n",
        "print(f\"One-Hot Encoded colors:\\n{encoded_df}\")"
      ],
      "metadata": {
        "colab": {
          "base_uri": "https://localhost:8080/"
        },
        "id": "43CG31GIf7HY",
        "outputId": "f538b2c2-b46b-4f04-c633-0daffa36a81c"
      },
      "execution_count": 2,
      "outputs": [
        {
          "output_type": "stream",
          "name": "stdout",
          "text": [
            "Original colors: [['red'], ['blue'], ['green'], ['blue'], ['red']]\n",
            "One-Hot Encoded colors:\n",
            "   color_blue  color_green  color_red\n",
            "0         0.0          0.0        1.0\n",
            "1         1.0          0.0        0.0\n",
            "2         0.0          1.0        0.0\n",
            "3         1.0          0.0        0.0\n",
            "4         0.0          0.0        1.0\n"
          ]
        },
        {
          "output_type": "stream",
          "name": "stderr",
          "text": [
            "/usr/local/lib/python3.10/dist-packages/sklearn/preprocessing/_encoders.py:975: FutureWarning: `sparse` was renamed to `sparse_output` in version 1.2 and will be removed in 1.4. `sparse_output` is ignored unless you leave `sparse` to its default value.\n",
            "  warnings.warn(\n"
          ]
        }
      ]
    },
    {
      "cell_type": "markdown",
      "source": [
        "### 3. **Ordinal Encoding**\n",
        "\n",
        "**Ordinal Encoding** is used for ordinal categorical features where the categories have a meaningful order. Each category is mapped to an integer representing its rank.\n",
        "\n",
        "**Use Case**: Suitable for ordinal data where the order of categories matters.\n",
        "\n",
        "**Example**:\n",
        "\n",
        "Consider a feature `education_level` with values `['highschool', 'bachelor', 'master', 'phd']`."
      ],
      "metadata": {
        "id": "6WRSe6w-gC4A"
      }
    },
    {
      "cell_type": "code",
      "source": [
        "from sklearn.preprocessing import OrdinalEncoder\n",
        "\n",
        "# Sample data\n",
        "education_levels = [['bachelor'], ['master'], ['highschool'], ['phd'], ['bachelor']]\n",
        "\n",
        "# Define the order of categories\n",
        "categories = [['highschool', 'bachelor', 'master', 'phd']]\n",
        "\n",
        "# Initialize the OrdinalEncoder\n",
        "ordinal_encoder = OrdinalEncoder(categories=categories)\n",
        "\n",
        "# Fit and transform the data\n",
        "encoded_levels = ordinal_encoder.fit_transform(education_levels)\n",
        "\n",
        "print(f\"Original education levels: {education_levels}\")\n",
        "print(f\"Ordinal Encoded education levels:\\n{encoded_levels}\")"
      ],
      "metadata": {
        "colab": {
          "base_uri": "https://localhost:8080/"
        },
        "id": "aOUceq87gC_i",
        "outputId": "d322bf09-0d6a-4d86-bf4d-c691ddff29ad"
      },
      "execution_count": 7,
      "outputs": [
        {
          "output_type": "stream",
          "name": "stdout",
          "text": [
            "Original education levels: [['bachelor'], ['master'], ['highschool'], ['phd'], ['bachelor']]\n",
            "Ordinal Encoded education levels:\n",
            "[[1.]\n",
            " [2.]\n",
            " [0.]\n",
            " [3.]\n",
            " [1.]]\n"
          ]
        }
      ]
    },
    {
      "cell_type": "markdown",
      "source": [
        "### 5. **MultiLabelBinarizer**\n",
        "\n",
        "**MultiLabelBinarizer** is used to encode multi-label data. It converts each label in the list of labels into binary form (like One-Hot Encoding), but it can handle multiple labels per sample.\n",
        "\n",
        "**Use Case**: When you have a feature with multiple labels per instance (e.g., genres of a movie).\n",
        "\n",
        "**Example**:\n",
        "\n",
        "Let's say you have a list of favorite colors per person, where each person can have more than one favorite color.\n"
      ],
      "metadata": {
        "id": "WMDF3HDcif99"
      }
    },
    {
      "cell_type": "code",
      "source": [
        "from sklearn.preprocessing import MultiLabelBinarizer\n",
        "\n",
        "# Sample data: a list of colors (multiple labels per sample)\n",
        "favorite_colors = [['red', 'blue'], ['blue'], ['green', 'red'], ['green'], ['blue', 'green']]\n",
        "\n",
        "# Initialize the MultiLabelBinarizer\n",
        "mlb = MultiLabelBinarizer()\n",
        "\n",
        "# Fit and transform the data\n",
        "encoded_colors = mlb.fit_transform(favorite_colors)\n",
        "\n",
        "# Get the class labels (columns)\n",
        "classes = mlb.classes_\n",
        "\n",
        "print(f\"Original favorite colors: {favorite_colors}\")\n",
        "print(f\"Encoded favorite colors:\\n{encoded_colors}\")\n",
        "print(f\"Class labels: {classes}\")"
      ],
      "metadata": {
        "colab": {
          "base_uri": "https://localhost:8080/"
        },
        "id": "0rthOEnNigII",
        "outputId": "68c768f8-92d7-4783-b9ca-1bc56e95f5ac"
      },
      "execution_count": 12,
      "outputs": [
        {
          "output_type": "stream",
          "name": "stdout",
          "text": [
            "Original favorite colors: [['red', 'blue'], ['blue'], ['green', 'red'], ['green'], ['blue', 'green']]\n",
            "Encoded favorite colors:\n",
            "[[1 0 1]\n",
            " [1 0 0]\n",
            " [0 1 1]\n",
            " [0 1 0]\n",
            " [1 1 0]]\n",
            "Class labels: ['blue' 'green' 'red']\n"
          ]
        }
      ]
    },
    {
      "cell_type": "markdown",
      "source": [
        "### 6. **LabelBinarizer**\n",
        "\n",
        "**LabelBinarizer** is similar to One-Hot Encoding, but it works for a single-label classification task and also supports converting binary data back to labels.\n",
        "\n",
        "**Use Case**: When you want to binarize a single-label categorical feature.\n",
        "\n",
        "\n",
        "**Explanation**:\n",
        "- This works similarly to One-Hot Encoding but is more streamlined for binary classification.\n",
        "- Each category (`red`, `blue`, `green`) is represented as a binary vector.\n",
        "\n"
      ],
      "metadata": {
        "id": "7VDJxErdiGff"
      }
    },
    {
      "cell_type": "code",
      "source": [
        "from sklearn.preprocessing import LabelBinarizer\n",
        "\n",
        "# Sample data: single label per instance\n",
        "colors = ['red', 'blue', 'green', 'blue', 'red']\n",
        "\n",
        "# Initialize the LabelBinarizer\n",
        "lb = LabelBinarizer()\n",
        "\n",
        "# Fit and transform the data\n",
        "encoded_colors = lb.fit_transform(colors)\n",
        "\n",
        "# Get the class labels (columns)\n",
        "classes = lb.classes_\n",
        "\n",
        "print(f\"Original colors: {colors}\")\n",
        "print(f\"Encoded colors:\\n{encoded_colors}\")\n",
        "print(f\"Class labels: {classes}\")"
      ],
      "metadata": {
        "colab": {
          "base_uri": "https://localhost:8080/"
        },
        "id": "09rBOSNFiGp5",
        "outputId": "de6d1ac5-c9bf-4f15-cbd7-3e3b03d45198"
      },
      "execution_count": 13,
      "outputs": [
        {
          "output_type": "stream",
          "name": "stdout",
          "text": [
            "Original colors: ['red', 'blue', 'green', 'blue', 'red']\n",
            "Encoded colors:\n",
            "[[0 0 1]\n",
            " [1 0 0]\n",
            " [0 1 0]\n",
            " [1 0 0]\n",
            " [0 0 1]]\n",
            "Class labels: ['blue' 'green' 'red']\n"
          ]
        }
      ]
    },
    {
      "cell_type": "markdown",
      "source": [
        "### Summary of All Techniques:\n",
        "\n",
        "- **LabelEncoder**: Converts categorical labels into integers.\n",
        "- **OneHotEncoder**: Converts categorical values into binary vectors (suitable for non-ordinal data).\n",
        "- **OrdinalEncoder**: Converts ordinal categorical values into integers (suitable for ordered categories).\n",
        "- **TargetEncoder**: Encodes categorical features based on their relationship with the target variable.\n",
        "- **MultiLabelBinarizer**: Binarizes multi-label data (multiple labels per instance).\n",
        "- **LabelBinarizer**: Binarizes single-label categorical data (like a simplified One-Hot Encoding)."
      ],
      "metadata": {
        "id": "yu-i7050ib_0"
      }
    },
    {
      "cell_type": "code",
      "source": [],
      "metadata": {
        "id": "Cm2ozj8QicH0"
      },
      "execution_count": null,
      "outputs": []
    }
  ]
}