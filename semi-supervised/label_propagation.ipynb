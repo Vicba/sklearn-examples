{
  "nbformat": 4,
  "nbformat_minor": 0,
  "metadata": {
    "colab": {
      "provenance": []
    },
    "kernelspec": {
      "name": "python3",
      "display_name": "Python 3"
    },
    "language_info": {
      "name": "python"
    }
  },
  "cells": [
    {
      "cell_type": "markdown",
      "source": [
        "# Label Propagation digits: Demonstrating performance#\n",
        "\n",
        "This example demonstrates the power of semisupervised learning by training a Label Spreading model to classify handwritten digits with sets of very few labels.\n",
        "\n",
        "The handwritten digit dataset has 1797 total points. The model will be trained using all points, but only 30 will be labeled. Results in the form of a confusion matrix and a series of metrics over each class will be very good.\n",
        "\n",
        "At the end, the top 10 most uncertain predictions will be shown."
      ],
      "metadata": {
        "id": "FdtILLmjH1Ul"
      }
    },
    {
      "cell_type": "markdown",
      "source": [
        "Label propagation is a semi-supervised learning algorithm designed to assign labels to previously unlabeled data points by leveraging the structure of a dataset represented as a graph. This algorithm was introduced by Xiaojin Zhu and Zoubin Ghahramani in 2002 and is particularly useful in scenarios where only a small subset of the data is labeled.\n",
        "\n",
        "## How Label Propagation Works\n",
        "\n",
        "The core idea behind label propagation is based on the assumption that similar data points (or nodes in a graph) are likely to share the same label. The algorithm follows these steps:\n",
        "\n",
        "1. **Graph Construction**: A graph is created where each node represents a data point, and edges connect nodes that are similar based on a defined metric (e.g., Euclidean distance). The strength of these connections can vary, with closer points having stronger connections.\n",
        "\n",
        "2. **Initialization**: Initially, each labeled node retains its label, while unlabeled nodes are assigned a unique label or marked as unlabeled.\n",
        "\n",
        "3. **Iterative Label Propagation**: The algorithm iteratively updates the labels of each node based on the labels of its neighbors. For each unlabeled node, the label is updated to the most common label among its neighbors. If there are ties, a label is chosen randomly from the most frequent ones.\n",
        "\n",
        "4. **Convergence**: This process continues until the labels stabilize, meaning that further iterations do not change the labels significantly.\n",
        "\n",
        "5. **Final Labels**: Once the algorithm converges, each node will have a label that reflects the labels of its connected neighbors, effectively propagating the known labels throughout the graph.\n",
        "\n",
        "## Applications\n",
        "\n",
        "Label propagation is widely used in various applications, including:\n",
        "\n",
        "- **Community Detection**: In network analysis, it helps identify communities within a graph by assigning similar labels to densely connected nodes.\n",
        "  \n",
        "- **Data Preparation**: It can be used to prepare datasets for supervised learning by labeling unlabeled data points, thereby improving the training of machine learning models.\n",
        "\n",
        "- **Social Network Analysis**: It can predict the interests or affiliations of individuals based on the known interests of their connections[1][4][6].\n",
        "\n",
        "Label propagation is favored for its simplicity and efficiency, although it does not guarantee a unique solution, as different initializations can lead to different label assignments[3][5].\n"
      ],
      "metadata": {
        "id": "lbRCU5sUH5OS"
      }
    },
    {
      "cell_type": "code",
      "execution_count": 27,
      "metadata": {
        "colab": {
          "base_uri": "https://localhost:8080/"
        },
        "id": "3UGc9FCsHDtf",
        "outputId": "576c053f-a9c7-46d9-aaa7-b1ad76d00c38"
      },
      "outputs": [
        {
          "output_type": "stream",
          "name": "stdout",
          "text": [
            "[ 154  564 1444 ...  493  527 1192]\n",
            "1797\n"
          ]
        }
      ],
      "source": [
        "# data generation\n",
        "import numpy as np\n",
        "from sklearn import datasets\n",
        "\n",
        "digits = datasets.load_digits()\n",
        "\n",
        "random_state = np.random.RandomState(2)\n",
        "\n",
        "indices = np.arange(len(digits.data))\n",
        "random_state.shuffle(indices)\n",
        "\n",
        "print(indices)\n",
        "print(len(indices))"
      ]
    },
    {
      "cell_type": "markdown",
      "source": [
        "We selected 340 samples of which only 40 will be associated with a known label. Therefore, we store the indices of the 300 other samples for which we are not supposed to know their labels.\n",
        "\n"
      ],
      "metadata": {
        "id": "57jOY2Y7INoy"
      }
    },
    {
      "cell_type": "code",
      "source": [
        "X = digits.data[indices[:340]]\n",
        "y = digits.target[indices[:340]]\n",
        "\n",
        "images = digits.images[indices[:340]]\n",
        "\n",
        "n_total_samples = len(y)\n",
        "print(len(y))\n",
        "n_labeled_points = 40\n",
        "\n",
        "indices = np.arange(n_total_samples)\n",
        "print(indices)\n",
        "\n",
        "unlabeled_set = indices[n_labeled_points:]\n",
        "print(\"unlabeled_set: \", unlabeled_set)"
      ],
      "metadata": {
        "colab": {
          "base_uri": "https://localhost:8080/"
        },
        "id": "aNu3wIjVIFi-",
        "outputId": "f5e5ab72-e21a-421a-8ae1-32c352b1c0f6"
      },
      "execution_count": 28,
      "outputs": [
        {
          "output_type": "stream",
          "name": "stdout",
          "text": [
            "340\n",
            "[  0   1   2   3   4   5   6   7   8   9  10  11  12  13  14  15  16  17\n",
            "  18  19  20  21  22  23  24  25  26  27  28  29  30  31  32  33  34  35\n",
            "  36  37  38  39  40  41  42  43  44  45  46  47  48  49  50  51  52  53\n",
            "  54  55  56  57  58  59  60  61  62  63  64  65  66  67  68  69  70  71\n",
            "  72  73  74  75  76  77  78  79  80  81  82  83  84  85  86  87  88  89\n",
            "  90  91  92  93  94  95  96  97  98  99 100 101 102 103 104 105 106 107\n",
            " 108 109 110 111 112 113 114 115 116 117 118 119 120 121 122 123 124 125\n",
            " 126 127 128 129 130 131 132 133 134 135 136 137 138 139 140 141 142 143\n",
            " 144 145 146 147 148 149 150 151 152 153 154 155 156 157 158 159 160 161\n",
            " 162 163 164 165 166 167 168 169 170 171 172 173 174 175 176 177 178 179\n",
            " 180 181 182 183 184 185 186 187 188 189 190 191 192 193 194 195 196 197\n",
            " 198 199 200 201 202 203 204 205 206 207 208 209 210 211 212 213 214 215\n",
            " 216 217 218 219 220 221 222 223 224 225 226 227 228 229 230 231 232 233\n",
            " 234 235 236 237 238 239 240 241 242 243 244 245 246 247 248 249 250 251\n",
            " 252 253 254 255 256 257 258 259 260 261 262 263 264 265 266 267 268 269\n",
            " 270 271 272 273 274 275 276 277 278 279 280 281 282 283 284 285 286 287\n",
            " 288 289 290 291 292 293 294 295 296 297 298 299 300 301 302 303 304 305\n",
            " 306 307 308 309 310 311 312 313 314 315 316 317 318 319 320 321 322 323\n",
            " 324 325 326 327 328 329 330 331 332 333 334 335 336 337 338 339]\n",
            "unlabeled_set:  [ 40  41  42  43  44  45  46  47  48  49  50  51  52  53  54  55  56  57\n",
            "  58  59  60  61  62  63  64  65  66  67  68  69  70  71  72  73  74  75\n",
            "  76  77  78  79  80  81  82  83  84  85  86  87  88  89  90  91  92  93\n",
            "  94  95  96  97  98  99 100 101 102 103 104 105 106 107 108 109 110 111\n",
            " 112 113 114 115 116 117 118 119 120 121 122 123 124 125 126 127 128 129\n",
            " 130 131 132 133 134 135 136 137 138 139 140 141 142 143 144 145 146 147\n",
            " 148 149 150 151 152 153 154 155 156 157 158 159 160 161 162 163 164 165\n",
            " 166 167 168 169 170 171 172 173 174 175 176 177 178 179 180 181 182 183\n",
            " 184 185 186 187 188 189 190 191 192 193 194 195 196 197 198 199 200 201\n",
            " 202 203 204 205 206 207 208 209 210 211 212 213 214 215 216 217 218 219\n",
            " 220 221 222 223 224 225 226 227 228 229 230 231 232 233 234 235 236 237\n",
            " 238 239 240 241 242 243 244 245 246 247 248 249 250 251 252 253 254 255\n",
            " 256 257 258 259 260 261 262 263 264 265 266 267 268 269 270 271 272 273\n",
            " 274 275 276 277 278 279 280 281 282 283 284 285 286 287 288 289 290 291\n",
            " 292 293 294 295 296 297 298 299 300 301 302 303 304 305 306 307 308 309\n",
            " 310 311 312 313 314 315 316 317 318 319 320 321 322 323 324 325 326 327\n",
            " 328 329 330 331 332 333 334 335 336 337 338 339]\n"
          ]
        }
      ]
    },
    {
      "cell_type": "code",
      "source": [
        "# shuffle everything around\n",
        "y_train = np.copy(y)\n",
        "y_train[unlabeled_set] = -1\n",
        "\n",
        "y_train"
      ],
      "metadata": {
        "colab": {
          "base_uri": "https://localhost:8080/"
        },
        "id": "78NwcFOlIFlb",
        "outputId": "e4088655-9a6e-423d-cf87-191e3ae0fbbe"
      },
      "execution_count": 29,
      "outputs": [
        {
          "output_type": "execute_result",
          "data": {
            "text/plain": [
              "array([ 4,  0,  9,  1,  4,  7,  1,  5,  1,  6,  6,  7,  6,  1,  5,  5,  4,\n",
              "        6,  2,  7,  4,  6,  4,  1,  5,  2,  9,  5,  4,  6,  5,  6,  3,  4,\n",
              "        0,  9,  9,  8,  4,  6, -1, -1, -1, -1, -1, -1, -1, -1, -1, -1, -1,\n",
              "       -1, -1, -1, -1, -1, -1, -1, -1, -1, -1, -1, -1, -1, -1, -1, -1, -1,\n",
              "       -1, -1, -1, -1, -1, -1, -1, -1, -1, -1, -1, -1, -1, -1, -1, -1, -1,\n",
              "       -1, -1, -1, -1, -1, -1, -1, -1, -1, -1, -1, -1, -1, -1, -1, -1, -1,\n",
              "       -1, -1, -1, -1, -1, -1, -1, -1, -1, -1, -1, -1, -1, -1, -1, -1, -1,\n",
              "       -1, -1, -1, -1, -1, -1, -1, -1, -1, -1, -1, -1, -1, -1, -1, -1, -1,\n",
              "       -1, -1, -1, -1, -1, -1, -1, -1, -1, -1, -1, -1, -1, -1, -1, -1, -1,\n",
              "       -1, -1, -1, -1, -1, -1, -1, -1, -1, -1, -1, -1, -1, -1, -1, -1, -1,\n",
              "       -1, -1, -1, -1, -1, -1, -1, -1, -1, -1, -1, -1, -1, -1, -1, -1, -1,\n",
              "       -1, -1, -1, -1, -1, -1, -1, -1, -1, -1, -1, -1, -1, -1, -1, -1, -1,\n",
              "       -1, -1, -1, -1, -1, -1, -1, -1, -1, -1, -1, -1, -1, -1, -1, -1, -1,\n",
              "       -1, -1, -1, -1, -1, -1, -1, -1, -1, -1, -1, -1, -1, -1, -1, -1, -1,\n",
              "       -1, -1, -1, -1, -1, -1, -1, -1, -1, -1, -1, -1, -1, -1, -1, -1, -1,\n",
              "       -1, -1, -1, -1, -1, -1, -1, -1, -1, -1, -1, -1, -1, -1, -1, -1, -1,\n",
              "       -1, -1, -1, -1, -1, -1, -1, -1, -1, -1, -1, -1, -1, -1, -1, -1, -1,\n",
              "       -1, -1, -1, -1, -1, -1, -1, -1, -1, -1, -1, -1, -1, -1, -1, -1, -1,\n",
              "       -1, -1, -1, -1, -1, -1, -1, -1, -1, -1, -1, -1, -1, -1, -1, -1, -1,\n",
              "       -1, -1, -1, -1, -1, -1, -1, -1, -1, -1, -1, -1, -1, -1, -1, -1, -1])"
            ]
          },
          "metadata": {},
          "execution_count": 29
        }
      ]
    },
    {
      "cell_type": "markdown",
      "source": [
        "### semi supervised learning\n",
        "\n",
        "We fit a LabelSpreading and use it to predict the unknown labels.\n",
        "\n"
      ],
      "metadata": {
        "id": "PUsxRoSlJOAD"
      }
    },
    {
      "cell_type": "code",
      "source": [
        "from sklearn.metrics import classification_report\n",
        "from sklearn.semi_supervised import LabelSpreading\n",
        "\n",
        "# Create a LabelSpreading model with specified parameters:\n",
        "# gamma=0.25 controls the similarity function's influence (higher values lead to less influence),\n",
        "# max_iter=20 specifies the maximum number of iterations to propagate labels.\n",
        "lp_model = LabelSpreading(gamma=0.25, max_iter=20)\n",
        "\n",
        "# Train the model on the labeled data.\n",
        "# X is the feature set, and y_train contains the labels for the labeled part of the dataset.\n",
        "lp_model.fit(X, y_train)\n",
        "\n",
        "# Get the predicted labels for the unlabeled set after label spreading.\n",
        "# lp_model.transduction_ contains the propagated labels for all data points.\n",
        "predicted_labels = lp_model.transduction_[unlabeled_set]\n",
        "\n",
        "# Retrieve the true labels for the unlabeled set for evaluation purposes.\n",
        "# 'y' contains the ground truth labels for all data points.\n",
        "true_labels = y[unlabeled_set]\n",
        "\n",
        "\n",
        "print(f\"Label Spreading model: {n_labeled_points} labeled & {n_total_samples - n_labeled_points} unlabeled points ({n_total_samples} total)\")"
      ],
      "metadata": {
        "colab": {
          "base_uri": "https://localhost:8080/"
        },
        "id": "KlVyzRqYIFoB",
        "outputId": "04593d22-d75d-41f7-ccd9-bf7682371890"
      },
      "execution_count": 30,
      "outputs": [
        {
          "output_type": "stream",
          "name": "stdout",
          "text": [
            "Label Spreading model: 40 labeled & 300 unlabeled points (340 total)\n"
          ]
        }
      ]
    },
    {
      "cell_type": "code",
      "source": [
        "print(classification_report(true_labels, predicted_labels))"
      ],
      "metadata": {
        "colab": {
          "base_uri": "https://localhost:8080/"
        },
        "id": "Aa0utfoFIFqn",
        "outputId": "d24d4713-e720-4ddb-b3dc-06d2295bebc1"
      },
      "execution_count": 31,
      "outputs": [
        {
          "output_type": "stream",
          "name": "stdout",
          "text": [
            "              precision    recall  f1-score   support\n",
            "\n",
            "           0       1.00      1.00      1.00        27\n",
            "           1       0.82      1.00      0.90        37\n",
            "           2       1.00      0.86      0.92        28\n",
            "           3       1.00      0.80      0.89        35\n",
            "           4       0.92      1.00      0.96        24\n",
            "           5       0.74      0.94      0.83        34\n",
            "           6       0.89      0.96      0.92        25\n",
            "           7       0.94      0.89      0.91        35\n",
            "           8       1.00      0.68      0.81        31\n",
            "           9       0.81      0.88      0.84        24\n",
            "\n",
            "    accuracy                           0.90       300\n",
            "   macro avg       0.91      0.90      0.90       300\n",
            "weighted avg       0.91      0.90      0.90       300\n",
            "\n"
          ]
        }
      ]
    },
    {
      "cell_type": "code",
      "source": [
        "from sklearn.metrics import ConfusionMatrixDisplay\n",
        "\n",
        "ConfusionMatrixDisplay.from_predictions(\n",
        "    true_labels, predicted_labels, labels=lp_model.classes_\n",
        ")"
      ],
      "metadata": {
        "colab": {
          "base_uri": "https://localhost:8080/",
          "height": 464
        },
        "id": "pDUtW8yTIFtO",
        "outputId": "b04ce273-e394-44a8-db0b-aa60479290bd"
      },
      "execution_count": 32,
      "outputs": [
        {
          "output_type": "execute_result",
          "data": {
            "text/plain": [
              "<sklearn.metrics._plot.confusion_matrix.ConfusionMatrixDisplay at 0x7f15bee49900>"
            ]
          },
          "metadata": {},
          "execution_count": 32
        },
        {
          "output_type": "display_data",
          "data": {
            "text/plain": [
              "<Figure size 640x480 with 2 Axes>"
            ],
            "image/png": "[encoded data removed]"
          },
          "metadata": {}
        }
      ]
    },
    {
      "cell_type": "code",
      "source": [],
      "metadata": {
        "id": "cOo_TvFeIFv1"
      },
      "execution_count": 32,
      "outputs": []
    },
    {
      "cell_type": "markdown",
      "source": [
        "## plot most uncertain predictions"
      ],
      "metadata": {
        "id": "e15oyk1VKKJQ"
      }
    },
    {
      "cell_type": "code",
      "source": [
        "from scipy import stats\n",
        "\n",
        "pred_entropies = stats.distributions.entropy(lp_model.label_distributions_.T)\n",
        "print(pred_entropies[:5])"
      ],
      "metadata": {
        "colab": {
          "base_uri": "https://localhost:8080/"
        },
        "id": "7oT1sMlPIFyK",
        "outputId": "303fbbc1-de80-4a4e-dace-3a17e1e0e509"
      },
      "execution_count": 33,
      "outputs": [
        {
          "output_type": "stream",
          "name": "stdout",
          "text": [
            "[4.60195940e-88 1.50499905e-62 2.02071084e-36 1.89116680e-83\n",
            " 6.59515934e-46]\n"
          ]
        }
      ]
    },
    {
      "cell_type": "code",
      "source": [
        "# 10 most uncertain labels\n",
        "uncertainty_index = np.argsort(pred_entropies)[-10:]\n",
        "uncertainty_index"
      ],
      "metadata": {
        "colab": {
          "base_uri": "https://localhost:8080/"
        },
        "id": "a8jTm3LJIF1C",
        "outputId": "64e9e87b-0b60-4464-8759-f921eba3ad91"
      },
      "execution_count": 34,
      "outputs": [
        {
          "output_type": "execute_result",
          "data": {
            "text/plain": [
              "array([213, 120, 238, 156,  73,  84,  55, 306,  89, 301])"
            ]
          },
          "metadata": {},
          "execution_count": 34
        }
      ]
    },
    {
      "cell_type": "code",
      "source": [
        "import matplotlib.pyplot as plt\n",
        "\n",
        "f = plt.figure(figsize=(7, 5))\n",
        "for index, image_index in enumerate(uncertainty_index):\n",
        "    image = images[image_index]\n",
        "\n",
        "    sub = f.add_subplot(2, 5, index + 1)\n",
        "    sub.imshow(image, cmap=plt.cm.gray_r)\n",
        "    plt.xticks([])\n",
        "    plt.yticks([])\n",
        "    sub.set_title(\n",
        "        \"predict: %i\\ntrue: %i\" % (lp_model.transduction_[image_index], y[image_index])\n",
        "    )\n",
        "\n",
        "f.suptitle(\"Learning with small amount of labeled data\")\n",
        "plt.show()"
      ],
      "metadata": {
        "colab": {
          "base_uri": "https://localhost:8080/",
          "height": 430
        },
        "id": "1enwfNNJIF36",
        "outputId": "01c2ee0b-cfff-4154-dc1f-df71ce1f253d"
      },
      "execution_count": 35,
      "outputs": [
        {
          "output_type": "display_data",
          "data": {
            "text/plain": [
              "<Figure size 700x500 with 10 Axes>"
            ],
            "image/png": "[encoded data removed]"
          },
          "metadata": {}
        }
      ]
    }
  ]
}